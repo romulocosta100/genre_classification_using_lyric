{
 "cells": [
  {
   "cell_type": "code",
   "execution_count": 1,
   "metadata": {},
   "outputs": [
    {
     "name": "stderr",
     "output_type": "stream",
     "text": [
      "Using TensorFlow backend.\n"
     ]
    }
   ],
   "source": [
    "import nbimporter\n",
    "from keras.engine.topology import Layer\n",
    "from keras import initializers as initializers, regularizers, constraints\n",
    "from keras import backend as K\n",
    "import pandas as pd\n",
    "import numpy as np\n",
    "from keras.preprocessing.sequence import pad_sequences\n",
    "from sklearn.model_selection import train_test_split\n",
    "from keras.models import Model, Input\n",
    "from keras.layers import LSTM, Embedding, Dense, TimeDistributed, Dropout, Conv1D , InputSpec ,InputSpec\n",
    "from keras.layers import Bidirectional, concatenate, SpatialDropout1D, GlobalMaxPooling1D\n",
    "import re\n",
    "from gensim.models import KeyedVectors\n",
    "import pandas as pd\n",
    "from sklearn.metrics import classification_report\n",
    "from keras_self_attention import SeqSelfAttention\n",
    "from keras.models import load_model\n",
    "from itertools import permutations \n",
    "import keras\n",
    "import ast\n",
    "from keras.utils import np_utils\n",
    "to_one_hot = np_utils.to_categorical"
   ]
  },
  {
   "cell_type": "markdown",
   "metadata": {},
   "source": [
    "# Load data"
   ]
  },
  {
   "cell_type": "code",
   "execution_count": 2,
   "metadata": {},
   "outputs": [],
   "source": [
    "df_train = pd.read_csv(\"Dataset/vagalume.train.csv\")\n",
    "df_dev = pd.read_csv(\"Dataset/vagalume.dev.csv\")\n",
    "df_test = pd.read_csv(\"Dataset/vagalume.test.csv\")"
   ]
  },
  {
   "cell_type": "code",
   "execution_count": 3,
   "metadata": {},
   "outputs": [],
   "source": [
    "df_train = df_train.head()\n",
    "df_dev = df_dev.head()\n",
    "df_test = df_test.head()"
   ]
  },
  {
   "cell_type": "markdown",
   "metadata": {},
   "source": [
    "# Preprocess Data"
   ]
  },
  {
   "cell_type": "code",
   "execution_count": 4,
   "metadata": {},
   "outputs": [],
   "source": [
    "def clean_text(text):\n",
    "    text = str(text)\n",
    "    text = re.sub(\"\\n\",\" \",text)\n",
    "    text = re.sub(\"[,|!|\\?|\\.]\",\" \",text)\n",
    "    text = re.sub(\" +\",\" \",text)\n",
    "    \n",
    "    return text.lower()\n",
    "\n",
    "\n",
    "def get_X_Y(dataframe):\n",
    "    \n",
    "    X = []\n",
    "    Y = []\n",
    "    \n",
    "    for row,line in dataframe.iterrows():\n",
    "        \n",
    "        clean_title = clean_text(line['music_title'])\n",
    "        clean_lyric = clean_text(line['music_lyric'])\n",
    "        X.append((clean_title+\" \"+clean_lyric).split(\" \") )\n",
    "        Y.append(line['genre'])\n",
    "    \n",
    "    return X,Y\n",
    "    \n",
    "    \n",
    "    "
   ]
  },
  {
   "cell_type": "code",
   "execution_count": 5,
   "metadata": {},
   "outputs": [],
   "source": [
    "X_train,Y_train = get_X_Y(df_train)\n",
    "X_dev,Y_dev = get_X_Y(df_train)\n",
    "X_test,Y_test = get_X_Y(df_test)"
   ]
  },
  {
   "cell_type": "code",
   "execution_count": null,
   "metadata": {},
   "outputs": [],
   "source": []
  },
  {
   "cell_type": "markdown",
   "metadata": {},
   "source": [
    "# Prepare the tokens"
   ]
  },
  {
   "cell_type": "code",
   "execution_count": 6,
   "metadata": {},
   "outputs": [],
   "source": [
    "model_word2vec = KeyedVectors.load_word2vec_format(\"/home/romulo/PUC/Pesquisa/Music Genre Classification/word_embeddings/wang2vec/cbow_s100.txt\", unicode_errors=\"ignore\")"
   ]
  },
  {
   "cell_type": "code",
   "execution_count": 7,
   "metadata": {},
   "outputs": [
    {
     "name": "stdout",
     "output_type": "stream",
     "text": [
      "words len: 929619\n"
     ]
    }
   ],
   "source": [
    "EMBEDDING_DIM = 100\n",
    "\n",
    "words_data_set = set([w.lower() for sentece in X_train for w in sentece ])\n",
    "words_word2vec = set(model_word2vec.vocab.keys())\n",
    "\n",
    "words = list( words_data_set.union(words_word2vec) )\n",
    "n_words = len(words)\n",
    "print(\"words len:\",n_words)"
   ]
  },
  {
   "cell_type": "code",
   "execution_count": 14,
   "metadata": {},
   "outputs": [
    {
     "name": "stdout",
     "output_type": "stream",
     "text": [
      "tags len: 7\n"
     ]
    }
   ],
   "source": [
    "tags_lyric = list(set( [tag for tag in (Y_dev+Y_train+Y_test) ]  )  )\n",
    "n_tags_lyric = len(tags_lyric)\n",
    "print(\"tags len:\",n_tags_lyric)"
   ]
  },
  {
   "cell_type": "code",
   "execution_count": 15,
   "metadata": {},
   "outputs": [],
   "source": [
    "max_len = 290\n",
    "max_len_char = 20\n",
    "\n",
    "word2idx = {w: i + 2 for i, w in enumerate(words)}\n",
    "word2idx[\"UNK\"] = 1\n",
    "word2idx[\"PAD\"] = 0\n",
    "idx2word = {i: w for w, i in word2idx.items()}\n",
    "tag2idx = {t: i + 1 for i, t in enumerate(tags_lyric)}\n",
    "tag2idx[\"PAD\"] = 0\n",
    "idx2tag = {i: w for w, i in tag2idx.items()}"
   ]
  },
  {
   "cell_type": "markdown",
   "metadata": {},
   "source": [
    "# Word pad"
   ]
  },
  {
   "cell_type": "code",
   "execution_count": 16,
   "metadata": {},
   "outputs": [],
   "source": [
    "def word_pad(senteces_param):\n",
    "    \n",
    "    word_pad = []\n",
    "    for s in senteces_param:\n",
    "        sentece_pad = []\n",
    "        for w in s:\n",
    "            if w.lower() in word2idx:\n",
    "                sentece_pad.append( word2idx[w.lower()])\n",
    "            else:\n",
    "                sentece_pad.append(1)\n",
    "        word_pad.append(sentece_pad)\n",
    "    \n",
    "    word_pad = pad_sequences(maxlen=max_len, sequences=word_pad, value=word2idx[\"PAD\"], padding='post', truncating='post')\n",
    "    \n",
    "    return word_pad"
   ]
  },
  {
   "cell_type": "code",
   "execution_count": 17,
   "metadata": {},
   "outputs": [],
   "source": [
    "X_word_tr = word_pad(X_train)\n",
    "X_word_dv = word_pad(X_dev)\n",
    "X_word_te = word_pad(X_test)"
   ]
  },
  {
   "cell_type": "code",
   "execution_count": null,
   "metadata": {},
   "outputs": [],
   "source": []
  },
  {
   "cell_type": "markdown",
   "metadata": {},
   "source": [
    "# Tag pad"
   ]
  },
  {
   "cell_type": "code",
   "execution_count": 18,
   "metadata": {},
   "outputs": [],
   "source": [
    "def y_pad(y_param):\n",
    "    return [tag2idx[tag] for tag in y_param]"
   ]
  },
  {
   "cell_type": "code",
   "execution_count": 19,
   "metadata": {},
   "outputs": [],
   "source": [
    "y_train = y_pad(Y_train)\n",
    "y_dev = y_pad(Y_dev)\n",
    "y_test = y_pad(Y_test)"
   ]
  },
  {
   "cell_type": "markdown",
   "metadata": {},
   "source": [
    "# Model "
   ]
  },
  {
   "cell_type": "code",
   "execution_count": 20,
   "metadata": {},
   "outputs": [],
   "source": [
    "# Load Embedding Matrix\n",
    "embedding_matrix = np.random.random((n_words + 2, EMBEDDING_DIM))\n",
    "for word, i in word2idx.items():\n",
    "    if(word in model_word2vec):\n",
    "        embedding_matrix[i] = model_word2vec[word]"
   ]
  },
  {
   "cell_type": "code",
   "execution_count": 21,
   "metadata": {},
   "outputs": [
    {
     "name": "stdout",
     "output_type": "stream",
     "text": [
      "_________________________________________________________________\n",
      "Layer (type)                 Output Shape              Param #   \n",
      "=================================================================\n",
      "input_1 (InputLayer)         (None, 290)               0         \n",
      "_________________________________________________________________\n",
      "embedding_1 (Embedding)      (None, 290, 100)          92962100  \n",
      "_________________________________________________________________\n",
      "spatial_dropout1d_1 (Spatial (None, 290, 100)          0         \n",
      "_________________________________________________________________\n",
      "bidirectional_1 (Bidirection (None, 512)               731136    \n",
      "_________________________________________________________________\n",
      "dense_1 (Dense)              (None, 8)                 4104      \n",
      "=================================================================\n",
      "Total params: 93,697,340\n",
      "Trainable params: 93,697,340\n",
      "Non-trainable params: 0\n",
      "_________________________________________________________________\n"
     ]
    }
   ],
   "source": [
    "hidden_layers=256\n",
    "\n",
    "#Model\n",
    "# input and embedding for words\n",
    "word_in = Input(shape=(max_len,))\n",
    "emb_word = Embedding(n_words + 2, EMBEDDING_DIM,\n",
    "                     weights=[embedding_matrix],input_length=max_len, mask_zero=True)(word_in)\n",
    "\n",
    "#BLSTM\n",
    "x = SpatialDropout1D(0.3)(emb_word)\n",
    "lstm = Bidirectional(LSTM(units=hidden_layers, return_sequences=False,\n",
    "                               recurrent_dropout=0.6))(x)\n",
    "\n",
    "out = Dense(n_tags_lyric+1, activation=\"softmax\")(lstm)\n",
    "\n",
    "model = Model(word_in, out)\n",
    "\n",
    "#Compile\n",
    "model.compile(optimizer=\"adam\", loss=\"sparse_categorical_crossentropy\", metrics=[\"acc\"])\n",
    "\n",
    "model.summary()"
   ]
  },
  {
   "cell_type": "code",
   "execution_count": 22,
   "metadata": {},
   "outputs": [
    {
     "name": "stdout",
     "output_type": "stream",
     "text": [
      "Train on 5 samples, validate on 5 samples\n",
      "Epoch 1/1\n",
      "5/5 [==============================] - 6s 1s/step - loss: 2.0621 - acc: 0.0000e+00 - val_loss: 1.9036 - val_acc: 0.8000\n"
     ]
    }
   ],
   "source": [
    "history = model.fit(X_word_tr, y_train,validation_data=( X_word_dv, y_dev ), epochs=1, verbose=1)"
   ]
  },
  {
   "cell_type": "code",
   "execution_count": 32,
   "metadata": {},
   "outputs": [],
   "source": [
    "ys_pred_dev = model.predict(X_word_dv)\n",
    "ys_pred_test = model.predict(X_word_te)"
   ]
  },
  {
   "cell_type": "code",
   "execution_count": 33,
   "metadata": {},
   "outputs": [],
   "source": [
    "def classification_report_csv(report):\n",
    "    report_data = []\n",
    "    lines = report.split('\\n')\n",
    "    for line in lines[2:-3]:\n",
    "        line = line.strip()\n",
    "        line = re.sub(\" +\",\" \",line)\n",
    "        \n",
    "        row = {}\n",
    "        row_data = line.split(' ')\n",
    "        row['classe'] = row_data[0]\n",
    "        row['precision'] = float(row_data[1])\n",
    "        row['recall'] = float(row_data[2])\n",
    "        row['f1_score'] = float(row_data[3])\n",
    "        row['support'] = float(row_data[4])\n",
    "        report_data.append(row)\n",
    "    return pd.DataFrame.from_dict(report_data)\n",
    "\n",
    "\n",
    "def evaluate(y_true,y_pred,set_name):\n",
    "    \n",
    "    tags_pred = []\n",
    "    tags_true = []\n",
    "    i=0\n",
    "    for y_pred,tag_test in zip(y_pred,y_true):\n",
    "        y_pred = np.argmax(y_pred, axis=-1)\n",
    "\n",
    "        tags_pred.append(idx2tag[y_pred])\n",
    "        tags_true.append(idx2tag[tag_test])\n",
    "        \n",
    "    \n",
    "    report = classification_report(tags_test, tags_pred)\n",
    "    print(report)\n",
    "    \n",
    "    df_report = classification_report_csv(report)\n",
    "    print(df_report.mean())\n",
    "    df_report.to_csv(\"Results/blstm_weusp_\"+set_name+\".csv\")\n",
    "    \n"
   ]
  },
  {
   "cell_type": "code",
   "execution_count": 34,
   "metadata": {},
   "outputs": [
    {
     "name": "stdout",
     "output_type": "stream",
     "text": [
      "              precision    recall  f1-score   support\n",
      "\n",
      "         axe       1.00      1.00      1.00         1\n",
      "       forro       1.00      1.00      1.00         1\n",
      "funk-carioca       0.00      0.00      0.00         1\n",
      "jovem-guarda       1.00      1.00      1.00         1\n",
      "         mpb       0.50      1.00      0.67         1\n",
      "\n",
      " avg / total       0.70      0.80      0.73         5\n",
      "\n",
      "f1_score     0.734\n",
      "precision    0.700\n",
      "recall       0.800\n",
      "support      1.000\n",
      "dtype: float64\n"
     ]
    },
    {
     "name": "stderr",
     "output_type": "stream",
     "text": [
      "/home/romulo/anaconda3/lib/python3.6/site-packages/sklearn/metrics/classification.py:1135: UndefinedMetricWarning: Precision and F-score are ill-defined and being set to 0.0 in labels with no predicted samples.\n",
      "  'precision', 'predicted', average, warn_for)\n"
     ]
    }
   ],
   "source": [
    "evaluate(y_dev,ys_pred_dev,\"devset\")"
   ]
  },
  {
   "cell_type": "code",
   "execution_count": 35,
   "metadata": {},
   "outputs": [
    {
     "name": "stdout",
     "output_type": "stream",
     "text": [
      "              precision    recall  f1-score   support\n",
      "\n",
      "         axe       0.00      0.00      0.00         1\n",
      "       forro       0.00      0.00      0.00         1\n",
      "funk-carioca       0.33      1.00      0.50         1\n",
      "jovem-guarda       1.00      1.00      1.00         1\n",
      "         mpb       1.00      1.00      1.00         1\n",
      "\n",
      " avg / total       0.47      0.60      0.50         5\n",
      "\n",
      "f1_score     0.500\n",
      "precision    0.466\n",
      "recall       0.600\n",
      "support      1.000\n",
      "dtype: float64\n"
     ]
    },
    {
     "name": "stderr",
     "output_type": "stream",
     "text": [
      "/home/romulo/anaconda3/lib/python3.6/site-packages/sklearn/metrics/classification.py:1135: UndefinedMetricWarning: Precision and F-score are ill-defined and being set to 0.0 in labels with no predicted samples.\n",
      "  'precision', 'predicted', average, warn_for)\n"
     ]
    }
   ],
   "source": [
    "evaluate(y_test,ys_pred_test,\"testset\")"
   ]
  },
  {
   "cell_type": "code",
   "execution_count": 26,
   "metadata": {},
   "outputs": [],
   "source": []
  },
  {
   "cell_type": "code",
   "execution_count": null,
   "metadata": {},
   "outputs": [],
   "source": []
  },
  {
   "cell_type": "code",
   "execution_count": 28,
   "metadata": {},
   "outputs": [],
   "source": []
  },
  {
   "cell_type": "code",
   "execution_count": null,
   "metadata": {},
   "outputs": [],
   "source": []
  }
 ],
 "metadata": {
  "kernelspec": {
   "display_name": "Python 3",
   "language": "python",
   "name": "python3"
  },
  "language_info": {
   "codemirror_mode": {
    "name": "ipython",
    "version": 3
   },
   "file_extension": ".py",
   "mimetype": "text/x-python",
   "name": "python",
   "nbconvert_exporter": "python",
   "pygments_lexer": "ipython3",
   "version": "3.6.8"
  }
 },
 "nbformat": 4,
 "nbformat_minor": 2
}
